{
 "cells": [
  {
   "cell_type": "code",
   "id": "initial_id",
   "metadata": {
    "collapsed": true,
    "ExecuteTime": {
     "end_time": "2025-05-08T20:22:56.081109Z",
     "start_time": "2025-05-08T20:22:52.616613Z"
    }
   },
   "source": [
    "import numpy as np\n",
    "import pandas as pd\n",
    "\n",
    "credits = pd.read_csv('../data/credits.csv')\n",
    "keywords = pd.read_csv('../data/keywords.csv')\n",
    "metadata = pd.read_csv('../data/movies_metadata.csv')"
   ],
   "outputs": [
    {
     "name": "stderr",
     "output_type": "stream",
     "text": [
      "C:\\Users\\szymo\\AppData\\Local\\Temp\\ipykernel_2000\\3065788958.py:6: DtypeWarning: Columns (10) have mixed types. Specify dtype option on import or set low_memory=False.\n",
      "  metadata = pd.read_csv('../data/movies_metadata.csv')\n"
     ]
    }
   ],
   "execution_count": 2
  },
  {
   "metadata": {
    "ExecuteTime": {
     "end_time": "2025-05-08T20:23:06.976104Z",
     "start_time": "2025-05-08T20:23:06.958232Z"
    }
   },
   "cell_type": "code",
   "source": "metadata = metadata[['adult', 'genres', 'id', 'overview', 'popularity', 'release_date', 'title', 'vote_average', 'vote_count']]",
   "id": "d824775a3c663c48",
   "outputs": [],
   "execution_count": 3
  },
  {
   "metadata": {
    "ExecuteTime": {
     "end_time": "2025-05-08T20:23:09.989249Z",
     "start_time": "2025-05-08T20:23:09.967156Z"
    }
   },
   "cell_type": "code",
   "source": "metadata.dropna(inplace=True)",
   "id": "b05a14b7e88e936d",
   "outputs": [],
   "execution_count": 4
  },
  {
   "metadata": {
    "ExecuteTime": {
     "end_time": "2025-05-08T20:23:10.794362Z",
     "start_time": "2025-05-08T20:23:10.721314Z"
    }
   },
   "cell_type": "code",
   "source": "metadata.drop_duplicates(inplace=True)",
   "id": "e8af3c6a0dcf3033",
   "outputs": [],
   "execution_count": 5
  },
  {
   "metadata": {
    "ExecuteTime": {
     "end_time": "2025-05-08T20:23:11.794404Z",
     "start_time": "2025-05-08T20:23:11.374355Z"
    }
   },
   "cell_type": "code",
   "source": "credits.drop_duplicates(inplace=True)",
   "id": "6e228989d4bf5420",
   "outputs": [],
   "execution_count": 6
  },
  {
   "metadata": {
    "ExecuteTime": {
     "end_time": "2025-05-08T20:23:12.339317Z",
     "start_time": "2025-05-08T20:23:12.316467Z"
    }
   },
   "cell_type": "code",
   "source": "keywords.drop_duplicates(inplace=True)",
   "id": "f3fdcc6602897c38",
   "outputs": [],
   "execution_count": 7
  },
  {
   "metadata": {
    "ExecuteTime": {
     "end_time": "2025-05-08T20:23:14.543281Z",
     "start_time": "2025-05-08T20:23:14.502475Z"
    }
   },
   "cell_type": "code",
   "source": [
    "metadata['id'] = metadata['id'].apply(lambda x : int(x))\n",
    "metadata['popularity'] = metadata['popularity'].apply(lambda x : float(x))\n",
    "metadata['vote_average'] = metadata['vote_average'].apply(lambda x : float(x))\n",
    "metadata['vote_count'] = metadata['vote_count'].apply(lambda x : int(x))"
   ],
   "id": "2dcc5c6fc234a6b5",
   "outputs": [],
   "execution_count": 8
  },
  {
   "metadata": {
    "ExecuteTime": {
     "end_time": "2025-05-08T20:23:15.817234Z",
     "start_time": "2025-05-08T20:23:15.765631Z"
    }
   },
   "cell_type": "code",
   "source": "merged = pd.merge(pd.merge(metadata, keywords, on='id'), credits, on='id')",
   "id": "df84431a511cc27f",
   "outputs": [],
   "execution_count": 9
  },
  {
   "metadata": {
    "ExecuteTime": {
     "end_time": "2025-05-08T20:23:16.473162Z",
     "start_time": "2025-05-08T20:23:16.469409Z"
    }
   },
   "cell_type": "code",
   "source": [
    "import ast\n",
    "from ast import literal_eval\n",
    "# literal eval convert any string to its actual type\n",
    "\n",
    "def convert(obj):\n",
    "\n",
    "    L = []\n",
    "\n",
    "    for i in literal_eval(obj):\n",
    "        L.append(i['name'])\n",
    "\n",
    "    return L"
   ],
   "id": "3d6575be17942caa",
   "outputs": [],
   "execution_count": 10
  },
  {
   "metadata": {
    "ExecuteTime": {
     "end_time": "2025-05-08T20:23:20.180923Z",
     "start_time": "2025-05-08T20:23:18.041082Z"
    }
   },
   "cell_type": "code",
   "source": [
    "merged['genres'] = merged['genres'].apply(convert)\n",
    "merged['keywords'] = merged['keywords'].apply(convert)"
   ],
   "id": "4668a5b26304a7a7",
   "outputs": [],
   "execution_count": 11
  },
  {
   "metadata": {
    "ExecuteTime": {
     "end_time": "2025-05-08T20:23:20.908102Z",
     "start_time": "2025-05-08T20:23:20.904501Z"
    }
   },
   "cell_type": "code",
   "source": [
    "def convert_cast(obj):\n",
    "\n",
    "    L = []\n",
    "    counter = 0\n",
    "\n",
    "    for i in literal_eval(obj):\n",
    "        if counter != 5:\n",
    "            L.append(i['name'])\n",
    "            counter += 1\n",
    "\n",
    "    return L"
   ],
   "id": "375044fedd89c0dd",
   "outputs": [],
   "execution_count": 12
  },
  {
   "metadata": {
    "ExecuteTime": {
     "end_time": "2025-05-08T20:23:37.422758Z",
     "start_time": "2025-05-08T20:23:24.837646Z"
    }
   },
   "cell_type": "code",
   "source": "merged['cast'] = merged['cast'].apply(convert_cast)",
   "id": "86ba2281d36ffb2d",
   "outputs": [],
   "execution_count": 13
  },
  {
   "metadata": {
    "ExecuteTime": {
     "end_time": "2025-05-08T20:23:38.953749Z",
     "start_time": "2025-05-08T20:23:38.950584Z"
    }
   },
   "cell_type": "code",
   "source": [
    "def convert_crew(obj):\n",
    "\n",
    "    for i in literal_eval(obj):\n",
    "        if i['job'] == 'Director':\n",
    "            return i['name']"
   ],
   "id": "98b6f19010ea0d00",
   "outputs": [],
   "execution_count": 14
  },
  {
   "metadata": {
    "ExecuteTime": {
     "end_time": "2025-05-08T20:23:50.279347Z",
     "start_time": "2025-05-08T20:23:40.834152Z"
    }
   },
   "cell_type": "code",
   "source": "merged['crew'] = merged['crew'].apply(convert_crew)",
   "id": "cba6b143e97db3c7",
   "outputs": [],
   "execution_count": 15
  },
  {
   "metadata": {
    "ExecuteTime": {
     "end_time": "2025-05-08T20:23:51.769861Z",
     "start_time": "2025-05-08T20:23:51.736771Z"
    }
   },
   "cell_type": "code",
   "source": "merged.dropna(inplace=True)",
   "id": "28b84e9a8e397d76",
   "outputs": [],
   "execution_count": 16
  },
  {
   "metadata": {
    "ExecuteTime": {
     "end_time": "2025-05-08T20:23:53.376831Z",
     "start_time": "2025-05-08T20:23:53.369923Z"
    }
   },
   "cell_type": "code",
   "source": "test_duplicate = merged.drop(columns=['genres', 'cast', 'keywords'])",
   "id": "19e71a86cead8b7b",
   "outputs": [],
   "execution_count": 17
  },
  {
   "metadata": {
    "ExecuteTime": {
     "end_time": "2025-05-08T20:23:55.239397Z",
     "start_time": "2025-05-08T20:23:55.056051Z"
    }
   },
   "cell_type": "code",
   "source": "merged['overview'] = merged['overview'].apply(lambda x: x.split())",
   "id": "1c6d2e7e73acb3b5",
   "outputs": [],
   "execution_count": 18
  },
  {
   "metadata": {
    "ExecuteTime": {
     "end_time": "2025-05-08T20:23:56.204038Z",
     "start_time": "2025-05-08T20:23:56.079644Z"
    }
   },
   "cell_type": "code",
   "source": "merged['crew'] = merged['crew'].apply(lambda x: [x])",
   "id": "b765823caba0aa53",
   "outputs": [],
   "execution_count": 19
  },
  {
   "metadata": {
    "ExecuteTime": {
     "end_time": "2025-05-08T20:23:58.015154Z",
     "start_time": "2025-05-08T20:23:57.293290Z"
    }
   },
   "cell_type": "code",
   "source": "merged['tags'] = merged['overview'] + merged['genres'] + merged['keywords'] + merged['cast'] + merged['crew']",
   "id": "b3647505e1f98352",
   "outputs": [],
   "execution_count": 20
  },
  {
   "metadata": {
    "ExecuteTime": {
     "end_time": "2025-05-08T20:23:58.956242Z",
     "start_time": "2025-05-08T20:23:58.595118Z"
    }
   },
   "cell_type": "code",
   "source": "merged['tags'] = merged['tags'].apply(lambda x: [i.replace(\" \", \"\") for i in x])",
   "id": "e4638aa1e97db5a4",
   "outputs": [],
   "execution_count": 21
  },
  {
   "metadata": {
    "ExecuteTime": {
     "end_time": "2025-05-08T20:24:00.068007Z",
     "start_time": "2025-05-08T20:23:59.972552Z"
    }
   },
   "cell_type": "code",
   "source": "merged['tags'] = merged['tags'].apply(lambda x: \" \".join(x))",
   "id": "eb1f513ea54ebead",
   "outputs": [],
   "execution_count": 22
  },
  {
   "metadata": {
    "ExecuteTime": {
     "end_time": "2025-05-08T20:24:00.891006Z",
     "start_time": "2025-05-08T20:24:00.836839Z"
    }
   },
   "cell_type": "code",
   "source": "merged['tags'] = merged['tags'].apply(lambda x : x.lower())",
   "id": "100c15cba4c441a6",
   "outputs": [],
   "execution_count": 23
  },
  {
   "metadata": {
    "ExecuteTime": {
     "end_time": "2025-05-08T20:24:02.204711Z",
     "start_time": "2025-05-08T20:24:02.184172Z"
    }
   },
   "cell_type": "code",
   "source": "merged['release_date'] = merged['release_date'].apply(lambda x: int(x.split(\"-\")[0]))",
   "id": "8e4b89dbd51382bb",
   "outputs": [],
   "execution_count": 24
  },
  {
   "metadata": {
    "ExecuteTime": {
     "end_time": "2025-05-08T20:24:03.069617Z",
     "start_time": "2025-05-08T20:24:03.066004Z"
    }
   },
   "cell_type": "code",
   "source": "merged.reset_index(inplace=True)",
   "id": "93c78d7f9ae956b6",
   "outputs": [],
   "execution_count": 25
  },
  {
   "metadata": {
    "ExecuteTime": {
     "end_time": "2025-05-08T20:24:04.410681Z",
     "start_time": "2025-05-08T20:24:04.272385Z"
    }
   },
   "cell_type": "code",
   "source": [
    "age = []\n",
    "\n",
    "for i in range(merged.shape[0]):\n",
    "    if merged['release_date'][i] < 2001:\n",
    "        age.append('old')\n",
    "    else:\n",
    "        age.append('new')\n",
    "\n",
    "merged['age'] = age"
   ],
   "id": "e2533b8bb0cbb87e",
   "outputs": [],
   "execution_count": 26
  },
  {
   "metadata": {
    "ExecuteTime": {
     "end_time": "2025-05-08T20:24:05.995219Z",
     "start_time": "2025-05-08T20:24:05.597178Z"
    }
   },
   "cell_type": "code",
   "source": [
    "review = []\n",
    "\n",
    "for i in range(merged.shape[0]):\n",
    "    if merged['vote_average'][i] <= 4:\n",
    "        review.append('bad')\n",
    "    elif merged['vote_average'][i] >= 5 and merged['vote_average'][i] <= 7:\n",
    "        review.append('average')\n",
    "    else:\n",
    "        review.append('good')\n",
    "\n",
    "merged['review'] = review"
   ],
   "id": "1696caf07220151b",
   "outputs": [],
   "execution_count": 27
  },
  {
   "metadata": {
    "ExecuteTime": {
     "end_time": "2025-05-08T20:24:07.140309Z",
     "start_time": "2025-05-08T20:24:07.082025Z"
    }
   },
   "cell_type": "code",
   "source": "merged['final_tag'] = merged['tags'] + \" \" + merged['age'] + \" \" + merged['review']",
   "id": "5a83152cb6c4ec12",
   "outputs": [],
   "execution_count": 28
  },
  {
   "metadata": {
    "ExecuteTime": {
     "end_time": "2025-05-08T20:24:08.426975Z",
     "start_time": "2025-05-08T20:24:08.423889Z"
    }
   },
   "cell_type": "code",
   "source": [
    "def format(obj):\n",
    "\n",
    "    obj = obj.split()\n",
    "    obj = obj[:-2]\n",
    "\n",
    "    obj = \" \".join(obj)\n",
    "\n",
    "    return obj"
   ],
   "id": "ab21d7a58670390f",
   "outputs": [],
   "execution_count": 29
  },
  {
   "metadata": {
    "ExecuteTime": {
     "end_time": "2025-05-08T20:24:09.840780Z",
     "start_time": "2025-05-08T20:24:09.639375Z"
    }
   },
   "cell_type": "code",
   "source": "merged['final_tag'] = merged['final_tag'].apply(format)",
   "id": "a46dbd48ea28f646",
   "outputs": [],
   "execution_count": 30
  },
  {
   "metadata": {
    "ExecuteTime": {
     "end_time": "2025-05-08T20:24:12.333213Z",
     "start_time": "2025-05-08T20:24:10.575653Z"
    }
   },
   "cell_type": "code",
   "source": "merged.to_csv('../data/merged.csv')",
   "id": "150c2cfafe74d5ee",
   "outputs": [],
   "execution_count": 31
  }
 ],
 "metadata": {
  "kernelspec": {
   "display_name": "Python 3",
   "language": "python",
   "name": "python3"
  },
  "language_info": {
   "codemirror_mode": {
    "name": "ipython",
    "version": 2
   },
   "file_extension": ".py",
   "mimetype": "text/x-python",
   "name": "python",
   "nbconvert_exporter": "python",
   "pygments_lexer": "ipython2",
   "version": "2.7.6"
  }
 },
 "nbformat": 4,
 "nbformat_minor": 5
}
