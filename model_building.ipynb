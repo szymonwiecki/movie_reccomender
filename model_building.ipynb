{
 "cells": [
  {
   "cell_type": "code",
   "id": "initial_id",
   "metadata": {
    "collapsed": true,
    "ExecuteTime": {
     "end_time": "2025-05-08T20:28:55.322790Z",
     "start_time": "2025-05-08T20:28:55.000798Z"
    }
   },
   "source": "import pandas as pd",
   "outputs": [],
   "execution_count": 1
  },
  {
   "metadata": {
    "ExecuteTime": {
     "end_time": "2025-05-08T20:32:29.676428Z",
     "start_time": "2025-05-08T20:32:29.672757Z"
    }
   },
   "cell_type": "code",
   "source": "import joblib",
   "id": "876e29c834b7187",
   "outputs": [],
   "execution_count": 10
  },
  {
   "metadata": {
    "ExecuteTime": {
     "end_time": "2025-05-08T20:28:57.294243Z",
     "start_time": "2025-05-08T20:28:56.401574Z"
    }
   },
   "cell_type": "code",
   "source": "merged = pd.read_csv('../data/merged.csv')",
   "id": "53698d8ed39c86d1",
   "outputs": [],
   "execution_count": 2
  },
  {
   "metadata": {
    "ExecuteTime": {
     "end_time": "2025-05-08T20:29:03.889431Z",
     "start_time": "2025-05-08T20:28:58.285970Z"
    }
   },
   "cell_type": "code",
   "source": [
    "from sklearn.feature_extraction.text import CountVectorizer, TfidfVectorizer\n",
    "cv = CountVectorizer(max_features=5000, stop_words='english') # bag-of-words method\n",
    "tf = TfidfVectorizer(max_features=5000, stop_words='english') # term frequency and rarity\n",
    "\n",
    "\n",
    "vector_cv = cv.fit_transform(merged['final_tag']).toarray()\n",
    "vector_tf = tf.fit_transform(merged['final_tag']).toarray()\n",
    "\n"
   ],
   "id": "8852f905833370db",
   "outputs": [],
   "execution_count": 3
  },
  {
   "metadata": {
    "ExecuteTime": {
     "end_time": "2025-05-08T20:36:14.259469Z",
     "start_time": "2025-05-08T20:36:09.030975Z"
    }
   },
   "cell_type": "code",
   "source": [
    "import os\n",
    "artefacts_dir = r'C:\\Users\\szymo\\PycharmProjects\\Recommender\\artefacts'\n",
    "os.makedirs(artefacts_dir, exist_ok=True)\n",
    "\n",
    "output_path = os.path.join(artefacts_dir, 'vector_cv.pkl')\n",
    "joblib.dump(vector_cv, output_path)\n",
    "\n",
    "output_path = os.path.join(artefacts_dir, 'vector_tf.pkl')\n",
    "joblib.dump(vector_tf, output_path)"
   ],
   "id": "3b84d19c3762390c",
   "outputs": [
    {
     "data": {
      "text/plain": [
       "['C:\\\\Users\\\\szymo\\\\PycharmProjects\\\\Recommender\\\\artefacts\\\\vector_tf.pkl']"
      ]
     },
     "execution_count": 16,
     "metadata": {},
     "output_type": "execute_result"
    }
   ],
   "execution_count": 16
  },
  {
   "metadata": {
    "ExecuteTime": {
     "end_time": "2025-05-08T20:29:52.801771Z",
     "start_time": "2025-05-08T20:29:04.517569Z"
    }
   },
   "cell_type": "code",
   "source": [
    "from sklearn.metrics.pairwise import cosine_similarity\n",
    "\n",
    "similarity_cv = cosine_similarity(vector_cv)"
   ],
   "id": "6d22058b9a790c19",
   "outputs": [],
   "execution_count": 4
  },
  {
   "metadata": {
    "ExecuteTime": {
     "end_time": "2025-05-08T20:38:20.564167Z",
     "start_time": "2025-05-08T20:36:38.542720Z"
    }
   },
   "cell_type": "code",
   "source": [
    "import os\n",
    "artefacts_dir = r'C:\\Users\\szymo\\PycharmProjects\\Recommender\\artefacts'\n",
    "os.makedirs(artefacts_dir, exist_ok=True)\n",
    "\n",
    "output_path = os.path.join(artefacts_dir, 'similarity_cv.pkl')\n",
    "joblib.dump(similarity_cv, output_path)"
   ],
   "id": "53bb535712a28e7b",
   "outputs": [
    {
     "data": {
      "text/plain": [
       "['C:\\\\Users\\\\szymo\\\\PycharmProjects\\\\Recommender\\\\artefacts\\\\similarity_cv.pkl']"
      ]
     },
     "execution_count": 17,
     "metadata": {},
     "output_type": "execute_result"
    }
   ],
   "execution_count": 17
  },
  {
   "metadata": {
    "ExecuteTime": {
     "end_time": "2025-05-08T20:29:56.616063Z",
     "start_time": "2025-05-08T20:29:56.611704Z"
    }
   },
   "cell_type": "code",
   "source": [
    "def recommend_movie_cv(movie):\n",
    "\n",
    "    idx = merged[merged['title'] == movie].index[0]\n",
    "    similar_list = similarity_cv[idx]\n",
    "\n",
    "    movie_list = sorted(list(enumerate(similar_list)), reverse=True, key=lambda x:x[1])[0:10]\n",
    "    # will return 10 movies\n",
    "\n",
    "    for i in movie_list:\n",
    "        print(merged['title'][i[0]])"
   ],
   "id": "37e52a6c91ebdb3",
   "outputs": [],
   "execution_count": 6
  },
  {
   "metadata": {
    "ExecuteTime": {
     "end_time": "2025-05-08T20:30:03.086959Z",
     "start_time": "2025-05-08T20:30:00.593975Z"
    }
   },
   "cell_type": "code",
   "source": "tf_final_vec = tf.fit_transform(merged['final_tag']).toarray()",
   "id": "694b6fd2b385c42a",
   "outputs": [],
   "execution_count": 7
  },
  {
   "metadata": {
    "ExecuteTime": {
     "end_time": "2025-05-08T20:38:29.690225Z",
     "start_time": "2025-05-08T20:38:20.596524Z"
    }
   },
   "cell_type": "code",
   "source": [
    "import os\n",
    "artefacts_dir = r'C:\\Users\\szymo\\PycharmProjects\\Recommender\\artefacts'\n",
    "os.makedirs(artefacts_dir, exist_ok=True)\n",
    "\n",
    "output_path = os.path.join(artefacts_dir, 'tf_final_vec.pkl')\n",
    "joblib.dump(tf_final_vec, output_path)"
   ],
   "id": "e020f875c8e06bfd",
   "outputs": [
    {
     "data": {
      "text/plain": [
       "['C:\\\\Users\\\\szymo\\\\PycharmProjects\\\\Recommender\\\\artefacts\\\\tf_final_vec.pkl']"
      ]
     },
     "execution_count": 18,
     "metadata": {},
     "output_type": "execute_result"
    }
   ],
   "execution_count": 18
  },
  {
   "metadata": {
    "ExecuteTime": {
     "end_time": "2025-05-08T20:31:09.389308Z",
     "start_time": "2025-05-08T20:30:04.906096Z"
    }
   },
   "cell_type": "code",
   "source": [
    "final_sim = cosine_similarity(tf_final_vec)\n",
    "final_sim"
   ],
   "id": "60e6676a01d97c4f",
   "outputs": [
    {
     "data": {
      "text/plain": [
       "array([[1.        , 0.0281856 , 0.00943089, ..., 0.        , 0.00946152,\n",
       "        0.        ],\n",
       "       [0.0281856 , 1.        , 0.06345875, ..., 0.        , 0.02977098,\n",
       "        0.01690098],\n",
       "       [0.00943089, 0.06345875, 1.        , ..., 0.        , 0.01824179,\n",
       "        0.        ],\n",
       "       ...,\n",
       "       [0.        , 0.        , 0.        , ..., 1.        , 0.        ,\n",
       "        0.        ],\n",
       "       [0.00946152, 0.02977098, 0.01824179, ..., 0.        , 1.        ,\n",
       "        0.        ],\n",
       "       [0.        , 0.01690098, 0.        , ..., 0.        , 0.        ,\n",
       "        1.        ]], shape=(43671, 43671))"
      ]
     },
     "execution_count": 8,
     "metadata": {},
     "output_type": "execute_result"
    }
   ],
   "execution_count": 8
  },
  {
   "metadata": {},
   "cell_type": "code",
   "source": [
    "def recommend_tf(movie):\n",
    "\n",
    "    idx = merged[merged['title'] == movie].index[0]\n",
    "    similar_list = final_sim[idx]\n",
    "\n",
    "    movie_list = sorted(list(enumerate(similar_list)), reverse=True, key=lambda x:x[1])[0:10]\n",
    "    # will return 10 movies\n",
    "\n",
    "    for i in movie_list:\n",
    "        print(merged['title'][i[0]])"
   ],
   "id": "1a94d8b7c4309a14",
   "outputs": [],
   "execution_count": 9
  }
 ],
 "metadata": {
  "kernelspec": {
   "display_name": "Python 3",
   "language": "python",
   "name": "python3"
  },
  "language_info": {
   "codemirror_mode": {
    "name": "ipython",
    "version": 2
   },
   "file_extension": ".py",
   "mimetype": "text/x-python",
   "name": "python",
   "nbconvert_exporter": "python",
   "pygments_lexer": "ipython2",
   "version": "2.7.6"
  }
 },
 "nbformat": 4,
 "nbformat_minor": 5
}
